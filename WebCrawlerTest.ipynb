{
 "cells": [
  {
   "cell_type": "code",
   "execution_count": 1,
   "metadata": {},
   "outputs": [],
   "source": [
    "import os\n",
    "import re\n",
    "import numpy as np\n",
    "import pandas as pd\n",
    "import urllib.request\n",
    "from tqdm import tqdm\n",
    "import time"
   ]
  },
  {
   "cell_type": "code",
   "execution_count": 2,
   "metadata": {},
   "outputs": [],
   "source": [
    "base_path = os.getcwd()"
   ]
  },
  {
   "cell_type": "code",
   "execution_count": null,
   "metadata": {},
   "outputs": [],
   "source": []
  },
  {
   "cell_type": "markdown",
   "metadata": {},
   "source": [
    "### BeautifulSoup"
   ]
  },
  {
   "cell_type": "code",
   "execution_count": 3,
   "metadata": {},
   "outputs": [],
   "source": [
    "from bs4 import BeautifulSoup"
   ]
  },
  {
   "cell_type": "code",
   "execution_count": 116,
   "metadata": {},
   "outputs": [],
   "source": [
    "html_src_file = os.path.join(base_path, 'main_src.txt')\n",
    "with open(html_src_file) as f:\n",
    "    html_src = f.read()"
   ]
  },
  {
   "cell_type": "code",
   "execution_count": 117,
   "metadata": {},
   "outputs": [
    {
     "name": "stdout",
     "output_type": "stream",
     "text": [
      "num orgs: 363\n"
     ]
    }
   ],
   "source": [
    "soup = BeautifulSoup(html_src)\n",
    "org_table = soup.findAll(\"table\", {\"class\": \"tbl\"})[0]\n",
    "org_table_body = org_table.find_all('tbody')[0]\n",
    "org_list = org_table_body.find_all('tr')\n",
    "\n",
    "print(f\"num orgs: {len(org_list)}\")\n",
    "\n",
    "def get_substring_btw_quotes(text):\n",
    "    m = re.search(\".+\\'(.+?)\\'\", text)\n",
    "    if m:\n",
    "        found = m.group(1)\n",
    "    else:\n",
    "        raise ValueError(f'{text}')\n",
    "    return found\n",
    "\n",
    "      \n",
    "organizations = []\n",
    "for i, org in enumerate(org_list):\n",
    "    fields = org.find_all('td')\n",
    "\n",
    "    temp = fields[0].find('a')['href']\n",
    "    temp_split = temp.split(',')\n",
    "\n",
    "    k1 = get_substring_btw_quotes(temp_split[0])\n",
    "    k2 = get_substring_btw_quotes(temp_split[1])    \n",
    "    \n",
    "    organizations.append({\n",
    "        'name': fields[0].text,\n",
    "        'type': fields[1].text,\n",
    "        'department': fields[2].text,\n",
    "        'k1': k1,\n",
    "        'k2': k2\n",
    "    })"
   ]
  },
  {
   "cell_type": "code",
   "execution_count": 182,
   "metadata": {},
   "outputs": [
    {
     "name": "stdout",
     "output_type": "stream",
     "text": [
      "No table found for: (재)APEC기후센터\n",
      "No table found for: (재)예술경영지원센터\n",
      "No table found for: # KDI국제정책대학원\n",
      "No table found for: 과학기술일자리진흥원\n",
      "No table found for: 국가생명윤리정책원\n",
      "No table found for: # 녹색기술센터\n",
      "No table found for: 농림식품기술기획평가원\n",
      "No table found for: 민주화운동기념사업회\n",
      "No table found for: 새만금개발공사\n",
      "No table found for: # 서울요양원\n",
      "No table found for: 수도권매립지관리공사\n",
      "No table found for: 신용보증재단중앙회\n",
      "No table found for: 아동권리보장원\n",
      "No table found for: 에너지경제연구원\n",
      "No table found for: # 육아정책연구소\n",
      "No table found for: 재단법인 의료기관평가인증원\n",
      "No table found for: 재단법인 한국여성과학기술인지원센터\n"
     ]
    },
    {
     "ename": "KeyError",
     "evalue": "\"['징계사유', '징계종류', '고발여부', '징계처분일'] not in index\"",
     "output_type": "error",
     "traceback": [
      "\u001b[0;31m---------------------------------------------------------------------------\u001b[0m",
      "\u001b[0;31mKeyError\u001b[0m                                  Traceback (most recent call last)",
      "\u001b[0;32m<ipython-input-182-68da27c1d630>\u001b[0m in \u001b[0;36m<module>\u001b[0;34m\u001b[0m\n\u001b[1;32m     44\u001b[0m     \u001b[0mdf\u001b[0m\u001b[0;34m[\u001b[0m\u001b[0;34m'org_type'\u001b[0m\u001b[0;34m]\u001b[0m \u001b[0;34m=\u001b[0m \u001b[0morg\u001b[0m\u001b[0;34m[\u001b[0m\u001b[0;34m'type'\u001b[0m\u001b[0;34m]\u001b[0m\u001b[0;34m\u001b[0m\u001b[0;34m\u001b[0m\u001b[0m\n\u001b[1;32m     45\u001b[0m     \u001b[0mdf\u001b[0m\u001b[0;34m[\u001b[0m\u001b[0;34m'department'\u001b[0m\u001b[0;34m]\u001b[0m \u001b[0;34m=\u001b[0m \u001b[0morg\u001b[0m\u001b[0;34m[\u001b[0m\u001b[0;34m'department'\u001b[0m\u001b[0;34m]\u001b[0m\u001b[0;34m\u001b[0m\u001b[0;34m\u001b[0m\u001b[0m\n\u001b[0;32m---> 46\u001b[0;31m     \u001b[0mdf\u001b[0m \u001b[0;34m=\u001b[0m \u001b[0mdf\u001b[0m\u001b[0;34m[\u001b[0m\u001b[0;34m[\u001b[0m\u001b[0;34m'org_name'\u001b[0m\u001b[0;34m,\u001b[0m \u001b[0;34m'org_type'\u001b[0m\u001b[0;34m,\u001b[0m \u001b[0;34m'department'\u001b[0m\u001b[0;34m,\u001b[0m \u001b[0;34m'징계처분일'\u001b[0m\u001b[0;34m,\u001b[0m \u001b[0;34m'징계종류'\u001b[0m\u001b[0;34m,\u001b[0m \u001b[0;34m'징계사유'\u001b[0m\u001b[0;34m,\u001b[0m \u001b[0;34m'고발여부'\u001b[0m\u001b[0;34m]\u001b[0m\u001b[0;34m]\u001b[0m\u001b[0;34m\u001b[0m\u001b[0;34m\u001b[0m\u001b[0m\n\u001b[0m\u001b[1;32m     47\u001b[0m     \u001b[0mdfs\u001b[0m\u001b[0;34m.\u001b[0m\u001b[0mappend\u001b[0m\u001b[0;34m(\u001b[0m\u001b[0mdf\u001b[0m\u001b[0;34m)\u001b[0m\u001b[0;34m\u001b[0m\u001b[0;34m\u001b[0m\u001b[0m\n\u001b[1;32m     48\u001b[0m \u001b[0;34m\u001b[0m\u001b[0m\n",
      "\u001b[0;32m~/workspace/webcrawler/venv/lib/python3.7/site-packages/pandas/core/frame.py\u001b[0m in \u001b[0;36m__getitem__\u001b[0;34m(self, key)\u001b[0m\n\u001b[1;32m   2903\u001b[0m             \u001b[0;32mif\u001b[0m \u001b[0mis_iterator\u001b[0m\u001b[0;34m(\u001b[0m\u001b[0mkey\u001b[0m\u001b[0;34m)\u001b[0m\u001b[0;34m:\u001b[0m\u001b[0;34m\u001b[0m\u001b[0;34m\u001b[0m\u001b[0m\n\u001b[1;32m   2904\u001b[0m                 \u001b[0mkey\u001b[0m \u001b[0;34m=\u001b[0m \u001b[0mlist\u001b[0m\u001b[0;34m(\u001b[0m\u001b[0mkey\u001b[0m\u001b[0;34m)\u001b[0m\u001b[0;34m\u001b[0m\u001b[0;34m\u001b[0m\u001b[0m\n\u001b[0;32m-> 2905\u001b[0;31m             \u001b[0mindexer\u001b[0m \u001b[0;34m=\u001b[0m \u001b[0mself\u001b[0m\u001b[0;34m.\u001b[0m\u001b[0mloc\u001b[0m\u001b[0;34m.\u001b[0m\u001b[0m_get_listlike_indexer\u001b[0m\u001b[0;34m(\u001b[0m\u001b[0mkey\u001b[0m\u001b[0;34m,\u001b[0m \u001b[0maxis\u001b[0m\u001b[0;34m=\u001b[0m\u001b[0;36m1\u001b[0m\u001b[0;34m,\u001b[0m \u001b[0mraise_missing\u001b[0m\u001b[0;34m=\u001b[0m\u001b[0;32mTrue\u001b[0m\u001b[0;34m)\u001b[0m\u001b[0;34m[\u001b[0m\u001b[0;36m1\u001b[0m\u001b[0;34m]\u001b[0m\u001b[0;34m\u001b[0m\u001b[0;34m\u001b[0m\u001b[0m\n\u001b[0m\u001b[1;32m   2906\u001b[0m \u001b[0;34m\u001b[0m\u001b[0m\n\u001b[1;32m   2907\u001b[0m         \u001b[0;31m# take() does not accept boolean indexers\u001b[0m\u001b[0;34m\u001b[0m\u001b[0;34m\u001b[0m\u001b[0;34m\u001b[0m\u001b[0m\n",
      "\u001b[0;32m~/workspace/webcrawler/venv/lib/python3.7/site-packages/pandas/core/indexing.py\u001b[0m in \u001b[0;36m_get_listlike_indexer\u001b[0;34m(self, key, axis, raise_missing)\u001b[0m\n\u001b[1;32m   1252\u001b[0m             \u001b[0mkeyarr\u001b[0m\u001b[0;34m,\u001b[0m \u001b[0mindexer\u001b[0m\u001b[0;34m,\u001b[0m \u001b[0mnew_indexer\u001b[0m \u001b[0;34m=\u001b[0m \u001b[0max\u001b[0m\u001b[0;34m.\u001b[0m\u001b[0m_reindex_non_unique\u001b[0m\u001b[0;34m(\u001b[0m\u001b[0mkeyarr\u001b[0m\u001b[0;34m)\u001b[0m\u001b[0;34m\u001b[0m\u001b[0;34m\u001b[0m\u001b[0m\n\u001b[1;32m   1253\u001b[0m \u001b[0;34m\u001b[0m\u001b[0m\n\u001b[0;32m-> 1254\u001b[0;31m         \u001b[0mself\u001b[0m\u001b[0;34m.\u001b[0m\u001b[0m_validate_read_indexer\u001b[0m\u001b[0;34m(\u001b[0m\u001b[0mkeyarr\u001b[0m\u001b[0;34m,\u001b[0m \u001b[0mindexer\u001b[0m\u001b[0;34m,\u001b[0m \u001b[0maxis\u001b[0m\u001b[0;34m,\u001b[0m \u001b[0mraise_missing\u001b[0m\u001b[0;34m=\u001b[0m\u001b[0mraise_missing\u001b[0m\u001b[0;34m)\u001b[0m\u001b[0;34m\u001b[0m\u001b[0;34m\u001b[0m\u001b[0m\n\u001b[0m\u001b[1;32m   1255\u001b[0m         \u001b[0;32mreturn\u001b[0m \u001b[0mkeyarr\u001b[0m\u001b[0;34m,\u001b[0m \u001b[0mindexer\u001b[0m\u001b[0;34m\u001b[0m\u001b[0;34m\u001b[0m\u001b[0m\n\u001b[1;32m   1256\u001b[0m \u001b[0;34m\u001b[0m\u001b[0m\n",
      "\u001b[0;32m~/workspace/webcrawler/venv/lib/python3.7/site-packages/pandas/core/indexing.py\u001b[0m in \u001b[0;36m_validate_read_indexer\u001b[0;34m(self, key, indexer, axis, raise_missing)\u001b[0m\n\u001b[1;32m   1302\u001b[0m             \u001b[0;32mif\u001b[0m \u001b[0mraise_missing\u001b[0m\u001b[0;34m:\u001b[0m\u001b[0;34m\u001b[0m\u001b[0;34m\u001b[0m\u001b[0m\n\u001b[1;32m   1303\u001b[0m                 \u001b[0mnot_found\u001b[0m \u001b[0;34m=\u001b[0m \u001b[0mlist\u001b[0m\u001b[0;34m(\u001b[0m\u001b[0mset\u001b[0m\u001b[0;34m(\u001b[0m\u001b[0mkey\u001b[0m\u001b[0;34m)\u001b[0m \u001b[0;34m-\u001b[0m \u001b[0mset\u001b[0m\u001b[0;34m(\u001b[0m\u001b[0max\u001b[0m\u001b[0;34m)\u001b[0m\u001b[0;34m)\u001b[0m\u001b[0;34m\u001b[0m\u001b[0;34m\u001b[0m\u001b[0m\n\u001b[0;32m-> 1304\u001b[0;31m                 \u001b[0;32mraise\u001b[0m \u001b[0mKeyError\u001b[0m\u001b[0;34m(\u001b[0m\u001b[0;34mf\"{not_found} not in index\"\u001b[0m\u001b[0;34m)\u001b[0m\u001b[0;34m\u001b[0m\u001b[0;34m\u001b[0m\u001b[0m\n\u001b[0m\u001b[1;32m   1305\u001b[0m \u001b[0;34m\u001b[0m\u001b[0m\n\u001b[1;32m   1306\u001b[0m             \u001b[0;31m# we skip the warning on Categorical\u001b[0m\u001b[0;34m\u001b[0m\u001b[0;34m\u001b[0m\u001b[0;34m\u001b[0m\u001b[0m\n",
      "\u001b[0;31mKeyError\u001b[0m: \"['징계사유', '징계종류', '고발여부', '징계처분일'] not in index\""
     ]
    }
   ],
   "source": [
    "start = time.time()\n",
    "\n",
    "dfs = []\n",
    "for i, org in tqdm(enumerate(organizations)):\n",
    "    url = 'http://www.alio.go.kr/popReportTerm.do?apbaId={0}&reportFormRootNo={1}'.format(org['k1'], org['k2'])\n",
    "    fs = urllib.request.urlopen(url)\n",
    "    s = fs.read().decode('utf-8')\n",
    "    fs.close()\n",
    "\n",
    "    soup = BeautifulSoup(s)\n",
    "    \n",
    "    # Get all tables\n",
    "    tables = soup.find_all('table')\n",
    "    \n",
    "    # Find the first table whose class is not nb\n",
    "    table = None\n",
    "    for i, t in enumerate(tables):\n",
    "        try:\n",
    "            t['class']\n",
    "        except:\n",
    "            table = t\n",
    "            break\n",
    "            \n",
    "    # Check if the table has been found\n",
    "    if table is None:\n",
    "        print(f\"No table found for: {org['name']}\")\n",
    "        continue\n",
    "    \n",
    "    # Extract info from the table\n",
    "    columns = []\n",
    "    data = []\n",
    "    for i, row in enumerate(table.find_all('tr')):\n",
    "        if i == 0:\n",
    "            for header in row.find_all('th'):\n",
    "                columns.append(header.text)\n",
    "\n",
    "        else:\n",
    "            row_data = []\n",
    "            for cell in row.find_all('td'):\n",
    "                row_data.append(cell.text)\n",
    "            data.append(row_data)\n",
    "\n",
    "    df = pd.DataFrame(data, columns=columns)\n",
    "\n",
    "    df['org_name'] = org['name']\n",
    "    df['org_type'] = org['type']\n",
    "    df['department'] = org['department']\n",
    "              \n",
    "    try:\n",
    "        df = df[['org_name', 'org_type', 'department', '징계처분일', '징계종류', '징계사유', '고발여부']]   \n",
    "    except KeyError as e:\n",
    "        print(f\"Key Error while processing {org['name']}\")\n",
    "        print(f\"Columns: {columns}\")\n",
    "              \n",
    "    dfs.append(df)\n",
    "\n",
    "df_combined = pd.concat(dfs)\n",
    "              \n",
    "\n",
    "end = time.time()\n",
    "print(f\"Elapsed time: {str(end - start)}\")"
   ]
  },
  {
   "cell_type": "code",
   "execution_count": null,
   "metadata": {},
   "outputs": [],
   "source": []
  },
  {
   "cell_type": "code",
   "execution_count": 184,
   "metadata": {},
   "outputs": [],
   "source": [
    "df_combined = pd.concat(dfs)"
   ]
  },
  {
   "cell_type": "code",
   "execution_count": 188,
   "metadata": {},
   "outputs": [],
   "source": [
    "save_path = os.path.join(base_path, 'data', 'example.csv')"
   ]
  },
  {
   "cell_type": "code",
   "execution_count": 189,
   "metadata": {},
   "outputs": [],
   "source": [
    "df_combined.to_csv(save_path)"
   ]
  },
  {
   "cell_type": "code",
   "execution_count": null,
   "metadata": {},
   "outputs": [],
   "source": []
  },
  {
   "cell_type": "code",
   "execution_count": null,
   "metadata": {},
   "outputs": [],
   "source": []
  },
  {
   "cell_type": "code",
   "execution_count": 185,
   "metadata": {
    "scrolled": false
   },
   "outputs": [
    {
     "data": {
      "text/html": [
       "<div>\n",
       "<style scoped>\n",
       "    .dataframe tbody tr th:only-of-type {\n",
       "        vertical-align: middle;\n",
       "    }\n",
       "\n",
       "    .dataframe tbody tr th {\n",
       "        vertical-align: top;\n",
       "    }\n",
       "\n",
       "    .dataframe thead th {\n",
       "        text-align: right;\n",
       "    }\n",
       "</style>\n",
       "<table border=\"1\" class=\"dataframe\">\n",
       "  <thead>\n",
       "    <tr style=\"text-align: right;\">\n",
       "      <th></th>\n",
       "      <th>org_name</th>\n",
       "      <th>org_type</th>\n",
       "      <th>department</th>\n",
       "      <th>징계처분일</th>\n",
       "      <th>징계종류</th>\n",
       "      <th>징계사유</th>\n",
       "      <th>고발여부</th>\n",
       "    </tr>\n",
       "  </thead>\n",
       "  <tbody>\n",
       "    <tr>\n",
       "      <th>0</th>\n",
       "      <td>(사)남북교류협력지원협회</td>\n",
       "      <td>기타공공기관</td>\n",
       "      <td>통일부</td>\n",
       "      <td>2017년 02월 24일</td>\n",
       "      <td>정직</td>\n",
       "      <td>성실의무 및 법규준수 위반</td>\n",
       "      <td>미고발</td>\n",
       "    </tr>\n",
       "    <tr>\n",
       "      <th>1</th>\n",
       "      <td>(사)남북교류협력지원협회</td>\n",
       "      <td>기타공공기관</td>\n",
       "      <td>통일부</td>\n",
       "      <td>2019년 05월 22일</td>\n",
       "      <td>감봉</td>\n",
       "      <td>성실의무 및 법규준수 위반</td>\n",
       "      <td>미고발</td>\n",
       "    </tr>\n",
       "    <tr>\n",
       "      <th>2</th>\n",
       "      <td>(사)남북교류협력지원협회</td>\n",
       "      <td>기타공공기관</td>\n",
       "      <td>통일부</td>\n",
       "      <td>2019년 05월 22일</td>\n",
       "      <td>감봉</td>\n",
       "      <td>성실의무 및 법규준수 위반</td>\n",
       "      <td>미고발</td>\n",
       "    </tr>\n",
       "    <tr>\n",
       "      <th>0</th>\n",
       "      <td>(재)국제원산지정보원</td>\n",
       "      <td>기타공공기관</td>\n",
       "      <td>관세청</td>\n",
       "      <td>2020년 06월 10일</td>\n",
       "      <td>감봉</td>\n",
       "      <td>복무의무 위반 등</td>\n",
       "      <td>미고발</td>\n",
       "    </tr>\n",
       "    <tr>\n",
       "      <th>0</th>\n",
       "      <td>(재)우체국금융개발원</td>\n",
       "      <td>준정부기관(위탁집행형)</td>\n",
       "      <td>과학기술정보통신부</td>\n",
       "      <td>2018년 01월 09일</td>\n",
       "      <td>견책</td>\n",
       "      <td>폭언 및 가혹행위</td>\n",
       "      <td>미고발</td>\n",
       "    </tr>\n",
       "    <tr>\n",
       "      <th>...</th>\n",
       "      <td>...</td>\n",
       "      <td>...</td>\n",
       "      <td>...</td>\n",
       "      <td>...</td>\n",
       "      <td>...</td>\n",
       "      <td>...</td>\n",
       "      <td>...</td>\n",
       "    </tr>\n",
       "    <tr>\n",
       "      <th>16</th>\n",
       "      <td>한국과학기술정보연구원</td>\n",
       "      <td>기타공공기관</td>\n",
       "      <td>과학기술정보통신부</td>\n",
       "      <td>2016년 11월 07일</td>\n",
       "      <td>해임</td>\n",
       "      <td>품위유지의 의무 등 위반</td>\n",
       "      <td>미고발</td>\n",
       "    </tr>\n",
       "    <tr>\n",
       "      <th>0</th>\n",
       "      <td># 한국과학영재학교</td>\n",
       "      <td>부설기관(한국과학기술원)</td>\n",
       "      <td>과학기술정보통신부</td>\n",
       "      <td>2018년 02월 22일</td>\n",
       "      <td>견책</td>\n",
       "      <td>채용전형 관리부실 및 평가 불공정</td>\n",
       "      <td>미고발</td>\n",
       "    </tr>\n",
       "    <tr>\n",
       "      <th>1</th>\n",
       "      <td># 한국과학영재학교</td>\n",
       "      <td>부설기관(한국과학기술원)</td>\n",
       "      <td>과학기술정보통신부</td>\n",
       "      <td>2018년 02월 22일</td>\n",
       "      <td>견책</td>\n",
       "      <td>채용전형 관리부실 및 평가 불공정</td>\n",
       "      <td>미고발</td>\n",
       "    </tr>\n",
       "    <tr>\n",
       "      <th>2</th>\n",
       "      <td># 한국과학영재학교</td>\n",
       "      <td>부설기관(한국과학기술원)</td>\n",
       "      <td>과학기술정보통신부</td>\n",
       "      <td>2019년 11월 12일</td>\n",
       "      <td>감봉</td>\n",
       "      <td>발전기금 과실금 집행 부적정</td>\n",
       "      <td>미고발</td>\n",
       "    </tr>\n",
       "    <tr>\n",
       "      <th>3</th>\n",
       "      <td># 한국과학영재학교</td>\n",
       "      <td>부설기관(한국과학기술원)</td>\n",
       "      <td>과학기술정보통신부</td>\n",
       "      <td>2019년 11월 12일</td>\n",
       "      <td>감봉</td>\n",
       "      <td>연구비 집행 부적정</td>\n",
       "      <td>미고발</td>\n",
       "    </tr>\n",
       "  </tbody>\n",
       "</table>\n",
       "<p>1535 rows × 7 columns</p>\n",
       "</div>"
      ],
      "text/plain": [
       "         org_name       org_type department          징계처분일 징계종류  \\\n",
       "0   (사)남북교류협력지원협회         기타공공기관        통일부  2017년 02월 24일   정직   \n",
       "1   (사)남북교류협력지원협회         기타공공기관        통일부  2019년 05월 22일   감봉   \n",
       "2   (사)남북교류협력지원협회         기타공공기관        통일부  2019년 05월 22일   감봉   \n",
       "0     (재)국제원산지정보원         기타공공기관        관세청  2020년 06월 10일   감봉   \n",
       "0     (재)우체국금융개발원   준정부기관(위탁집행형)  과학기술정보통신부  2018년 01월 09일   견책   \n",
       "..            ...            ...        ...            ...  ...   \n",
       "16    한국과학기술정보연구원         기타공공기관  과학기술정보통신부  2016년 11월 07일   해임   \n",
       "0      # 한국과학영재학교  부설기관(한국과학기술원)  과학기술정보통신부  2018년 02월 22일   견책   \n",
       "1      # 한국과학영재학교  부설기관(한국과학기술원)  과학기술정보통신부  2018년 02월 22일   견책   \n",
       "2      # 한국과학영재학교  부설기관(한국과학기술원)  과학기술정보통신부  2019년 11월 12일   감봉   \n",
       "3      # 한국과학영재학교  부설기관(한국과학기술원)  과학기술정보통신부  2019년 11월 12일   감봉   \n",
       "\n",
       "                  징계사유 고발여부  \n",
       "0       성실의무 및 법규준수 위반  미고발  \n",
       "1       성실의무 및 법규준수 위반  미고발  \n",
       "2       성실의무 및 법규준수 위반  미고발  \n",
       "0            복무의무 위반 등  미고발  \n",
       "0            폭언 및 가혹행위  미고발  \n",
       "..                 ...  ...  \n",
       "16       품위유지의 의무 등 위반  미고발  \n",
       "0   채용전형 관리부실 및 평가 불공정  미고발  \n",
       "1   채용전형 관리부실 및 평가 불공정  미고발  \n",
       "2      발전기금 과실금 집행 부적정  미고발  \n",
       "3           연구비 집행 부적정  미고발  \n",
       "\n",
       "[1535 rows x 7 columns]"
      ]
     },
     "execution_count": 185,
     "metadata": {},
     "output_type": "execute_result"
    }
   ],
   "source": []
  },
  {
   "cell_type": "code",
   "execution_count": null,
   "metadata": {},
   "outputs": [],
   "source": []
  },
  {
   "cell_type": "code",
   "execution_count": 180,
   "metadata": {},
   "outputs": [],
   "source": []
  },
  {
   "cell_type": "code",
   "execution_count": 126,
   "metadata": {},
   "outputs": [],
   "source": []
  },
  {
   "cell_type": "code",
   "execution_count": 129,
   "metadata": {},
   "outputs": [],
   "source": []
  },
  {
   "cell_type": "code",
   "execution_count": 143,
   "metadata": {},
   "outputs": [],
   "source": []
  },
  {
   "cell_type": "code",
   "execution_count": 167,
   "metadata": {},
   "outputs": [],
   "source": []
  },
  {
   "cell_type": "code",
   "execution_count": null,
   "metadata": {},
   "outputs": [],
   "source": []
  },
  {
   "cell_type": "code",
   "execution_count": null,
   "metadata": {},
   "outputs": [],
   "source": []
  },
  {
   "cell_type": "code",
   "execution_count": null,
   "metadata": {},
   "outputs": [],
   "source": []
  },
  {
   "cell_type": "code",
   "execution_count": null,
   "metadata": {},
   "outputs": [],
   "source": []
  },
  {
   "cell_type": "code",
   "execution_count": null,
   "metadata": {},
   "outputs": [],
   "source": [
    "# urllib를 이용하기 위해 urllib.request를 import 해줘야한다.\n",
    "import urllib.request\n",
    "\n",
    "# urllib.request.urlopen(url)에서 url에는 데이터 추출을 원하는 웹 주소를 넣으면 된다.\n",
    "# 이 함수는 HTTPResponse를 반환해주는데, 이는 파일 스트림과 비슷한 역할을 한다고 보면 된다.\n",
    "# 본 소스코드에서는 'Python Pip 설치' 포스트 주소를 사용하였다.\n",
    "\n",
    "\n",
    "# urlopen의 리턴값을 이용해 데이터(html 코드)를 읽어오는 방법은 크게 3가지가 있는데\n",
    "# read(), readline(), readlines()이다.\n",
    "\n",
    "# read()는 모든 데이터를 하나의 문자열 형태로 반환해주고\n",
    "# readline()은 데이터의 한 줄만 읽어온다.(개행문자가 나올 때 까지)\n",
    "# readlines()는 모든 데이터를 개행문자('\\n')를 기준으로 잘라내어 리스트 형식으로 반환한다.\n",
    "\n",
    "# read() 사용 예\n",
    "# decode에 대해서는 아래에서 설명하겠다.\n",
    "s = fs.read().decode('utf-8')\n",
    "print(s)\n",
    "\n",
    "# fs를 닫아준다.\n",
    "fs.close()\n",
    "[출처] Python을 이용하여 웹 스크래핑하기|작성자 Black Stone"
   ]
  },
  {
   "cell_type": "code",
   "execution_count": null,
   "metadata": {},
   "outputs": [],
   "source": []
  },
  {
   "cell_type": "markdown",
   "metadata": {},
   "source": [
    "### Selenium"
   ]
  },
  {
   "cell_type": "code",
   "execution_count": 10,
   "metadata": {
    "scrolled": true
   },
   "outputs": [
    {
     "name": "stderr",
     "output_type": "stream",
     "text": [
      "[WDM] - Current google-chrome version is 84.0.4147\n",
      "[WDM] - Get LATEST driver version for 84.0.4147\n",
      "[WDM] - Driver [/Users/bang/.wdm/drivers/chromedriver/mac64/84.0.4147.30/chromedriver] found in cache\n"
     ]
    },
    {
     "name": "stdout",
     "output_type": "stream",
     "text": [
      " \n"
     ]
    }
   ],
   "source": [
    "# from selenium import webdriver\n",
    "# from selenium.webdriver.common.keys import Keys\n",
    "\n",
    "# # Import webdriver for automation\n",
    "# from selenium import webdriver\n",
    "\n",
    "# # Importing the ChromeDriver class for handling webdriver\n",
    "# from webdriver_manager.chrome import ChromeDriverManager\n",
    "\n",
    "# driver = webdriver.Chrome(ChromeDriverManager().install()) # diver\n",
    "\n",
    "# driver.get(\"http://www.python.org\")\n",
    "\n",
    "\n",
    "# assert \"Python\" in driver.title\n",
    "# elem = driver.find_element_by_name(\"q\")\n",
    "# elem.clear()\n",
    "# elem.send_keys(\"pycon\")\n",
    "# elem.send_keys(Keys.RETURN)\n",
    "# assert \"No results found.\" not in driver.page_source\n",
    "# driver.close()"
   ]
  }
 ],
 "metadata": {
  "kernelspec": {
   "display_name": "web_crawler_test",
   "language": "python",
   "name": "web_crawler_test"
  },
  "language_info": {
   "codemirror_mode": {
    "name": "ipython",
    "version": 3
   },
   "file_extension": ".py",
   "mimetype": "text/x-python",
   "name": "python",
   "nbconvert_exporter": "python",
   "pygments_lexer": "ipython3",
   "version": "3.7.4"
  }
 },
 "nbformat": 4,
 "nbformat_minor": 2
}
